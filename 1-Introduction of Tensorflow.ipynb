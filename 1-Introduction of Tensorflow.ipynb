{
 "cells": [
  {
   "cell_type": "code",
   "execution_count": 1,
   "metadata": {},
   "outputs": [],
   "source": [
    "import tensorflow as tf\n",
    "import numpy as np"
   ]
  },
  {
   "cell_type": "code",
   "execution_count": 4,
   "metadata": {},
   "outputs": [
    {
     "name": "stdout",
     "output_type": "stream",
     "text": [
      "b'Hello Tensorflow!'\n",
      "10\n",
      "32\n",
      "42\n",
      "b'Hello Tensorflow!'\n"
     ]
    }
   ],
   "source": [
    "hello = tf.constant(\"Hello Tensorflow!\")\n",
    "a = tf.constant(10)\n",
    "b = tf.constant(32)\n",
    "\n",
    "sess = tf.Session()\n",
    "\n",
    "print(sess.run(hello))\n",
    "print(sess.run(a))\n",
    "print(sess.run(b))\n",
    "print(sess.run(a+b))\n",
    "print(hello.eval(session=sess))\n",
    "\n",
    "sess.close()"
   ]
  },
  {
   "cell_type": "code",
   "execution_count": 9,
   "metadata": {
    "collapsed": true
   },
   "outputs": [
    {
     "name": "stdout",
     "output_type": "stream",
     "text": [
      "step  0 0.04488462\n",
      "w:  [[0.16384494 0.88589513]] b:  [-0.01632514]\n",
      "##################################################\n",
      "step  20 0.02234992\n",
      "w:  [[0.15508755 0.6937722 ]] b:  [0.01445709]\n",
      "##################################################\n",
      "step  40 0.01274606\n",
      "w:  [[0.16148041 0.5694462 ]] b:  [0.07537711]\n",
      "##################################################\n",
      "step  60 0.0073432988\n",
      "w:  [[0.16164106 0.47710773]] b:  [0.12313671]\n",
      "##################################################\n",
      "step  80 0.004273404\n",
      "w:  [[0.15821147 0.40836453]] b:  [0.16060834]\n",
      "##################################################\n",
      "step  100 0.002511263\n",
      "w:  [[0.15292054 0.35706928]] b:  [0.19004388]\n",
      "##################################################\n",
      "step  120 0.0014894926\n",
      "w:  [[0.14686531 0.31870258]] b:  [0.21319295]\n",
      "##################################################\n",
      "step  140 0.0008911392\n",
      "w:  [[0.14071806 0.28993613]] b:  [0.23141718]\n",
      "##################################################\n",
      "step  160 0.00053740793\n",
      "w:  [[0.13486928 0.2683143 ]] b:  [0.24577822]\n",
      "##################################################\n",
      "step  180 0.00032642283\n",
      "w:  [[0.1295257  0.25202176]] b:  [0.25710508]\n",
      "##################################################\n",
      "step  200 0.00019954053\n",
      "w:  [[0.1247769  0.23971373]] b:  [0.26604626]\n",
      "##################################################\n",
      "step  220 0.00012266522\n",
      "w:  [[0.1206402 0.2303921]] b:  [0.27310953]\n",
      "##################################################\n",
      "step  240 7.577606e-05\n",
      "w:  [[0.11709061 0.2233143 ]] b:  [0.2786932]\n",
      "##################################################\n",
      "step  260 4.700762e-05\n",
      "w:  [[0.11408023 0.2179266 ]] b:  [0.28311002]\n",
      "##################################################\n",
      "step  280 2.926589e-05\n",
      "w:  [[0.11155078 0.2138152 ]] b:  [0.2866059]\n",
      "##################################################\n",
      "step  300 1.8275754e-05\n",
      "w:  [[0.10944145 0.21067001]] b:  [0.28937432]\n",
      "##################################################\n",
      "step  320 1.144201e-05\n",
      "w:  [[0.10769339 0.20825817]] b:  [0.2915677]\n",
      "##################################################\n",
      "step  340 7.178869e-06\n",
      "w:  [[0.10625217 0.20640431]] b:  [0.29330635]\n",
      "##################################################\n",
      "step  360 4.5122383e-06\n",
      "w:  [[0.10506913 0.20497617]] b:  [0.294685]\n",
      "##################################################\n",
      "step  380 2.8403447e-06\n",
      "w:  [[0.10410161 0.20387352]] b:  [0.29577866]\n",
      "##################################################\n",
      "step  400 1.7901652e-06\n",
      "w:  [[0.10331289 0.20302041]] b:  [0.2966465]\n",
      "##################################################\n"
     ]
    }
   ],
   "source": [
    "\"\"\"Train a linear model\"\"\"\n",
    "\n",
    "x = np.float32(np.random.rand(2, 100))\n",
    "y = np.dot([0.1, 0.2], x)+0.3\n",
    "\n",
    "w = tf.Variable(tf.random_uniform(shape=[1, 2], minval=-1.0, maxval=1.0, \n",
    "                                  dtype=tf.float32))\n",
    "b = tf.Variable(tf.zeros(shape=[1], dtype=tf.float32))\n",
    "\n",
    "y_pred = tf.matmul(w, x)+b\n",
    "\n",
    "loss = tf.reduce_mean(tf.square(y_pred-y))\n",
    "optimizer = tf.train.GradientDescentOptimizer(0.1)\n",
    "train = optimizer.minimize(loss)\n",
    "\n",
    "init = tf.global_variables_initializer()\n",
    "\n",
    "with tf.Session() as sess:\n",
    "    sess.run(init)\n",
    "    for step in range(401):\n",
    "        sess.run(train)\n",
    "        if step%20 == 0:\n",
    "            print(\"step \", step, sess.run(loss))\n",
    "            print(\"w: \", sess.run(w), \"b: \", sess.run(b))\n",
    "            print(\"#\"*50)"
   ]
  },
  {
   "cell_type": "code",
   "execution_count": 13,
   "metadata": {},
   "outputs": [
    {
     "name": "stdout",
     "output_type": "stream",
     "text": [
      "0.0\n",
      "1.0\n",
      "2.0\n",
      "3.0\n",
      "4.0\n",
      "5.0\n"
     ]
    }
   ],
   "source": [
    "\"\"\"The usage of assign\"\"\"\n",
    "\n",
    "state = tf.Variable(tf.constant(0.0), name=\"counter\", dtype=tf.float32)\n",
    "one = tf.constant(1.0, dtype=tf.float32)\n",
    "new_value = tf.add(state, one)\n",
    "update = tf.assign(state, new_value)\n",
    "\n",
    "init = tf.global_variables_initializer()\n",
    "\n",
    "with tf.Session() as sess:\n",
    "    sess.run(init)\n",
    "    print(sess.run(state))\n",
    "    for _ in range(5):\n",
    "        sess.run(update)\n",
    "        print(sess.run(state))"
   ]
  },
  {
   "cell_type": "code",
   "execution_count": null,
   "metadata": {},
   "outputs": [],
   "source": []
  }
 ],
 "metadata": {
  "kernelspec": {
   "display_name": "Python 3",
   "language": "python",
   "name": "python3"
  },
  "language_info": {
   "codemirror_mode": {
    "name": "ipython",
    "version": 3
   },
   "file_extension": ".py",
   "mimetype": "text/x-python",
   "name": "python",
   "nbconvert_exporter": "python",
   "pygments_lexer": "ipython3",
   "version": "3.6.5"
  }
 },
 "nbformat": 4,
 "nbformat_minor": 2
}
